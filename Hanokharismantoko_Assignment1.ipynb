{
 "cells": [
  {
   "cell_type": "markdown",
   "metadata": {},
   "source": [
    "# 1"
   ]
  },
  {
   "cell_type": "code",
   "execution_count": 1,
   "metadata": {},
   "outputs": [],
   "source": [
    "#Buatlah sebuah program yang menerima 3 input dari user.Input tersebut berupa:\n",
    "#1. Nama bertipe data string\n",
    "#2. Umur bertipe data integer\n",
    "#3. Tinggi bertipe data float\n",
    "#Lalu tampilkan ke layar dengan format :\n",
    "#Nama saya [ Nama ], umur saya [ Umur ] tahun dan tinggi saya [ Tinggi ] cm."
   ]
  },
  {
   "cell_type": "code",
   "execution_count": 29,
   "metadata": {},
   "outputs": [
    {
     "name": "stdin",
     "output_type": "stream",
     "text": [
      "masukkan nama : hano\n",
      "masukkan umur : 27\n",
      "masukkan tinggi : 169.5\n"
     ]
    },
    {
     "name": "stdout",
     "output_type": "stream",
     "text": [
      "Nama saya hano , umur saya 27 tahun dan tinggi saya 169.5 cm\n",
      "<class 'str'>\n",
      "<class 'int'>\n",
      "<class 'float'>\n"
     ]
    }
   ],
   "source": [
    "nama=input(\"masukkan nama :\")\n",
    "umur=int(input(\"masukkan umur :\"))\n",
    "tinggi=float(input(\"masukkan tinggi :\"))\n",
    "print(\"Nama saya\", nama,\", umur saya\", umur,\"tahun dan tinggi saya\", tinggi,\"cm\")\n",
    "print(type(nama))\n",
    "print(type(umur))\n",
    "print(type(tinggi))"
   ]
  },
  {
   "cell_type": "markdown",
   "metadata": {},
   "source": [
    "# 2"
   ]
  },
  {
   "cell_type": "code",
   "execution_count": 30,
   "metadata": {},
   "outputs": [],
   "source": [
    "#Buatlah sebuah program yang dapat menghitung luas lingkaran.\n",
    "#Program meminta input dari user berupa angka sebagai jari-jari lingkaran.\n",
    "#Program menghitung luas lingkaran dengan rumus πr²\n",
    "#Π = 22/7\n",
    "#r = jari -jari lingkaran\n",
    "#Lalu tampilkan ke layar dengan format:\n",
    "#Hint: untuk menampilkan tanda kuadrat gunakan print(“\\u00b2”)"
   ]
  },
  {
   "cell_type": "code",
   "execution_count": 57,
   "metadata": {},
   "outputs": [
    {
     "name": "stdin",
     "output_type": "stream",
     "text": [
      "masukkan jari-jari: 10\n"
     ]
    },
    {
     "name": "stdout",
     "output_type": "stream",
     "text": [
      "Luas lingkaran dengan jari-jari 10.0 cm adalah 314.2857142857143 cm²\n"
     ]
    }
   ],
   "source": [
    "jari2=float(input(\"masukkan jari-jari:\"))\n",
    "phi=22/7\n",
    "luas= phi*(jari2**2)\n",
    "print(\"Luas lingkaran dengan jari-jari\", jari2,\"cm adalah\", luas, \"cm\\u00b2\")"
   ]
  },
  {
   "cell_type": "code",
   "execution_count": 74,
   "metadata": {},
   "outputs": [
    {
     "name": "stdout",
     "output_type": "stream",
     "text": [
      "Luas lingkaran dengan jari-jari 10.0 cm adalah 314.29 cm²\n"
     ]
    }
   ],
   "source": [
    "print(\"Luas lingkaran dengan jari-jari\", jari2,\"cm adalah\", format (luas,('.2f')), \"cm\\u00b2\")"
   ]
  },
  {
   "cell_type": "markdown",
   "metadata": {},
   "source": [
    "# 3"
   ]
  },
  {
   "cell_type": "code",
   "execution_count": 1,
   "metadata": {},
   "outputs": [],
   "source": [
    "#Buatlah sebuah program untuk menentukan apakah seorang siswa lulus ujian atau tidak. \n",
    "#Siswadinyatakan lulus apabila nilai ujian teori dan ujian praktek minimal 70.\n",
    "#Program menerima input berupa nilai ujian teori dan praktek, nilai ujian dapat berupa bilangandesimal."
   ]
  },
  {
   "cell_type": "code",
   "execution_count": 6,
   "metadata": {},
   "outputs": [
    {
     "name": "stdin",
     "output_type": "stream",
     "text": [
      "masukkan nilai ujian teori : 60\n",
      "masukkan nilai ujian praktek : 70\n"
     ]
    },
    {
     "name": "stdout",
     "output_type": "stream",
     "text": [
      "Nilai ujian teori 60.0 dan nilai ujian praktek 70.0\n",
      "Anda harus mengulang ujian teori\n",
      "\n",
      "Semangat belajar selalu\n"
     ]
    }
   ],
   "source": [
    "t=float(input(\"masukkan nilai ujian teori :\"))\n",
    "p=float(input(\"masukkan nilai ujian praktek :\"))\n",
    "if (t==70 and p==70):\n",
    "    print(\"Nilai ujian teori {} dan nilai ujian praktek {}\".format (t,p))\n",
    "    print(\"Selamat, anda lulus!\")\n",
    "    print(\"\\nSemangat belajar selalu\")\n",
    "elif (t==70 and p<70):\n",
    "    print(\"Nilai ujian teori {} dan nilai ujian praktek {}\".format (t,p))\n",
    "    print(\"Anda harus mengulang ujian praktek\")\n",
    "    print(\"\\nSemangat belajar selalu\")\n",
    "elif (t<70 and p==70):\n",
    "    print(\"Nilai ujian teori {} dan nilai ujian praktek {}\".format (t,p))\n",
    "    print(\"Anda harus mengulang ujian teori\")\n",
    "    print(\"\\nSemangat belajar selalu\")\n",
    "elif (t<70 and p<70):\n",
    "    print(\"Nilai ujian teori {} dan nilai ujian praktek {}\".format (t,p))\n",
    "    print(\"Anda harus mengulang ujian teori dan praktek.\")\n",
    "    print(\"\\nSemangat belajar selalu\")\n",
    "else:\n",
    "    print(\"\\nSemangat belajar selalu\")\n",
    "    print(\"==================\")"
   ]
  }
 ],
 "metadata": {
  "kernelspec": {
   "display_name": "Python 3",
   "language": "python",
   "name": "python3"
  },
  "language_info": {
   "codemirror_mode": {
    "name": "ipython",
    "version": 3
   },
   "file_extension": ".py",
   "mimetype": "text/x-python",
   "name": "python",
   "nbconvert_exporter": "python",
   "pygments_lexer": "ipython3",
   "version": "3.8.5"
  }
 },
 "nbformat": 4,
 "nbformat_minor": 4
}
