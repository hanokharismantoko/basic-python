{
 "cells": [
  {
   "cell_type": "markdown",
   "metadata": {},
   "source": [
    "Assignment 2-Basic Python"
   ]
  },
  {
   "cell_type": "code",
   "execution_count": null,
   "metadata": {},
   "outputs": [
    {
     "name": "stdout",
     "output_type": "stream",
     "text": [
      "Selamat Datang, ada yang bisa dibanting?\n",
      " \n",
      "--Ada dong, minta menu:--\n",
      "1. Daftar Kontak\n",
      "2. Tambah Kontak\n",
      "3. Keluar\n"
     ]
    },
    {
     "name": "stdin",
     "output_type": "stream",
     "text": [
      "\n",
      "Pilih menu: 1\n"
     ]
    },
    {
     "name": "stdout",
     "output_type": "stream",
     "text": [
      "\n",
      "Daftar Kontak:\n",
      "\n",
      "Nama:  Farhan \n",
      "No Telepon: 08123456789\n",
      "=====================\n",
      "\n",
      "Nama:  Joko \n",
      "No Telepon: 08987654321\n",
      "=====================\n",
      " \n",
      "--Ada dong, minta menu:--\n",
      "1. Daftar Kontak\n",
      "2. Tambah Kontak\n",
      "3. Keluar\n"
     ]
    },
    {
     "name": "stdin",
     "output_type": "stream",
     "text": [
      "\n",
      "Pilih menu: 2\n",
      "Nama: er\n",
      "No Telepon: 45\n"
     ]
    },
    {
     "name": "stdout",
     "output_type": "stream",
     "text": [
      "\n",
      "Kontak berhasil ditambahkan\n",
      "=====================\n",
      " \n",
      "--Ada dong, minta menu:--\n",
      "1. Daftar Kontak\n",
      "2. Tambah Kontak\n",
      "3. Keluar\n"
     ]
    },
    {
     "name": "stdin",
     "output_type": "stream",
     "text": [
      "\n",
      "Pilih menu: 1\n"
     ]
    },
    {
     "name": "stdout",
     "output_type": "stream",
     "text": [
      "\n",
      "Daftar Kontak:\n",
      "\n",
      "Nama:  Farhan \n",
      "No Telepon: 08123456789\n",
      "=====================\n",
      "\n",
      "Nama:  Joko \n",
      "No Telepon: 08987654321\n",
      "=====================\n",
      "\n",
      "Nama:  er \n",
      "No Telepon: 45\n",
      "=====================\n",
      " \n",
      "--Ada dong, minta menu:--\n",
      "1. Daftar Kontak\n",
      "2. Tambah Kontak\n",
      "3. Keluar\n"
     ]
    }
   ],
   "source": [
    " #menu awal\n",
    "def show_menu():\n",
    "    print('--Ada dong, minta menu:--')\n",
    "    print('1. Daftar Kontak')\n",
    "    print('2. Tambah Kontak')\n",
    "    print('3. Keluar')\n",
    "\n",
    "#Pengantar\n",
    "print('Selamat Datang, ada yang bisa dibanting?')\n",
    "kontak = {}\n",
    "kontak['Farhan'] = '08123456789'\n",
    "kontak['Joko'] = '08987654321'\n",
    "\n",
    "#Munculkan menu awal\n",
    "while True:\n",
    "    print(' ')\n",
    "    show_menu()\n",
    "    \n",
    "    menu_awal = input('\\nPilih menu:')\n",
    "    \n",
    "    if menu_awal == '1':\n",
    "        print('\\nDaftar Kontak:')\n",
    "        while True:\n",
    "            for i in kontak:\n",
    "                print('\\nNama: ', i,\"\\nNo Telepon:\", kontak[i])\n",
    "                print(\"=====================\")\n",
    "            break\n",
    "    \n",
    "    elif menu_awal == '2':\n",
    "        while True:\n",
    "                Nama = input('Nama:')\n",
    "                No_Telepon = (input('No Telepon:'))\n",
    "                kontak[Nama] = No_Telepon\n",
    "                print(\"\\nKontak berhasil ditambahkan\")\n",
    "                print(\"=====================\")\n",
    "                break\n",
    "        \n",
    "    elif menu_awal == '3':\n",
    "        print(\"\\nProgram selesai, sampai jumpa!\")\n",
    "        print(\"=====================\")\n",
    "        break\n",
    "    else:\n",
    "        print(\"\\nMenu tidak tersedia\")\n",
    "        print(\"=====================\")"
   ]
  },
  {
   "cell_type": "code",
   "execution_count": null,
   "metadata": {},
   "outputs": [],
   "source": []
  }
 ],
 "metadata": {
  "kernelspec": {
   "display_name": "Python 3",
   "language": "python",
   "name": "python3"
  },
  "language_info": {
   "codemirror_mode": {
    "name": "ipython",
    "version": 3
   },
   "file_extension": ".py",
   "mimetype": "text/x-python",
   "name": "python",
   "nbconvert_exporter": "python",
   "pygments_lexer": "ipython3",
   "version": "3.8.5"
  }
 },
 "nbformat": 4,
 "nbformat_minor": 4
}
