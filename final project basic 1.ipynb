{
 "cells": [
  {
   "cell_type": "code",
   "execution_count": 9,
   "metadata": {},
   "outputs": [
    {
     "name": "stdout",
     "output_type": "stream",
     "text": [
      "Koneksi gagal, silahkan coba lagi!\n"
     ]
    }
   ],
   "source": [
    "import smtplib\n",
    "from email.mime.text import MIMEText\n",
    "from email.mime.multipart import MIMEMultipart\n",
    "#from email.MIMEMultipart import MIMEMultipart\n",
    "\n",
    "pengirim = '07handini@gmail.com' #masukkan email pengirim\n",
    "\n",
    "dataku = open(\"daftaremail.txt\", \"r+\")\n",
    "\n",
    "penerima = dataku #bisa satu penerima atau lebih\n",
    "msg = MIMEText('coba kirim ya')\n",
    "msg ['Subject'] = 'kirim email via python'\n",
    "msg ['From'] = pengirim\n",
    "msg ['To'] = penerima\n",
    "\n",
    "msg = MIMEMultipart()\n",
    "\n",
    "msg.attach(MIMEText('Daftar kontak.txt'))  #buatlah file (satu folder) yg akan dikirim dgn program\n",
    "\n",
    "try:\n",
    "    #pwd = 'log1000=3' #isikan password gmail mu??\n",
    "    s = smtplib.SMTP('smtp.gmail.com', 587)\n",
    "    s.starttls()\n",
    "    #s = smtplib.SMTP_SSL()\n",
    "    #s.connect('smtp.gmail.com', 465)\n",
    "    s.login(pengirim, \"log1000=3\")\n",
    "    s.sendmail(pengirim, penerima, msg.as_string())\n",
    "    s.quit()\n",
    "    print ('Berhasil mengirim e-mail')#pesan ketika berhasil mengirim\n",
    "\n",
    "except Exception:\n",
    "    print ('Koneksi gagal, silahkan coba lagi!')#pesan ketika tidak terkoneksi "
   ]
  },
  {
   "cell_type": "code",
   "execution_count": null,
   "metadata": {},
   "outputs": [],
   "source": []
  }
 ],
 "metadata": {
  "kernelspec": {
   "display_name": "Python 3",
   "language": "python",
   "name": "python3"
  },
  "language_info": {
   "codemirror_mode": {
    "name": "ipython",
    "version": 3
   },
   "file_extension": ".py",
   "mimetype": "text/x-python",
   "name": "python",
   "nbconvert_exporter": "python",
   "pygments_lexer": "ipython3",
   "version": "3.8.5"
  }
 },
 "nbformat": 4,
 "nbformat_minor": 4
}
